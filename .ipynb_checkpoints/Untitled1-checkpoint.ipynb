{
 "metadata": {
  "name": "",
  "signature": "sha256:90ac58f0c94efc1b4e003da194651c42eb046237e97d46ab2723c8e22d26b58e"
 },
 "nbformat": 3,
 "nbformat_minor": 0,
 "worksheets": []
}